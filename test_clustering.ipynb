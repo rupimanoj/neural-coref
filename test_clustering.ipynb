{
 "cells": [
  {
   "cell_type": "code",
   "execution_count": 1,
   "metadata": {},
   "outputs": [
    {
     "name": "stdout",
     "output_type": "stream",
     "text": [
      "importing Jupyter notebook from all_utility_functions.ipynb\n",
      "Better speed can be achieved with apex installed from https://www.github.com/nvidia/apex.\n"
     ]
    }
   ],
   "source": [
    "import numpy as np\n",
    "import import_ipynb\n",
    "from all_utility_functions import *"
   ]
  },
  {
   "cell_type": "code",
   "execution_count": 2,
   "metadata": {},
   "outputs": [],
   "source": [
    "test_passages = np.load(\"processed_data/test_passage_list.npy\")"
   ]
  },
  {
   "cell_type": "code",
   "execution_count": 3,
   "metadata": {},
   "outputs": [],
   "source": [
    "test_embeddings = []\n",
    "for i,passage in enumerate(test_passages):\n",
    "    #print(\"processing doc\", i)\n",
    "    embeddings = get_bert_embeddings(str(passage))\n",
    "    test_embeddings.append(embeddings)"
   ]
  },
  {
   "cell_type": "code",
   "execution_count": 4,
   "metadata": {},
   "outputs": [],
   "source": [
    "test_coref_list = np.load(\"processed_data/test_coref_list.npy\")"
   ]
  },
  {
   "cell_type": "code",
   "execution_count": 5,
   "metadata": {},
   "outputs": [
    {
     "data": {
      "text/plain": [
       "{27: [(63, 64), (193, 194)],\n",
       " 88: [(66, 67), (109, 110)],\n",
       " 65: [(93, 94), (178, 179)],\n",
       " 115: [(96, 100), (140, 144)],\n",
       " 48: [(102, 104), (136, 138)],\n",
       " 62: [(115, 119), (162, 166)],\n",
       " 10: [(215, 215), (220, 220)]}"
      ]
     },
     "execution_count": 5,
     "metadata": {},
     "output_type": "execute_result"
    }
   ],
   "source": [
    "test_coref_list[3]"
   ]
  },
  {
   "cell_type": "code",
   "execution_count": 6,
   "metadata": {},
   "outputs": [],
   "source": [
    "test_mention_list = []\n",
    "for doc_coref in test_coref_list:\n",
    "    mention_list = []\n",
    "    for key, value in doc_coref.items():\n",
    "        mention_list += value\n",
    "    mention_list = sorted(mention_list, key = lambda x: x[0]) \n",
    "    test_mention_list.append(mention_list)"
   ]
  },
  {
   "cell_type": "code",
   "execution_count": 7,
   "metadata": {},
   "outputs": [
    {
     "data": {
      "text/plain": [
       "15"
      ]
     },
     "execution_count": 7,
     "metadata": {},
     "output_type": "execute_result"
    }
   ],
   "source": [
    "len(test_mention_list[0])"
   ]
  },
  {
   "cell_type": "code",
   "execution_count": 8,
   "metadata": {},
   "outputs": [],
   "source": [
    "test_edge_pairs = []\n",
    "test_samples_input = []"
   ]
  },
  {
   "cell_type": "code",
   "execution_count": 9,
   "metadata": {},
   "outputs": [],
   "source": [
    "for doc_no, mention_list in enumerate(test_mention_list):\n",
    "    doc_samples = []\n",
    "    doc_edges = []\n",
    "    for i in range(0,len(mention_list)):\n",
    "        for j in range(i+1, len(mention_list)):\n",
    "            sample = []\n",
    "            sample.append(doc_no)\n",
    "            sample.append(mention_list[i][0])\n",
    "            sample.append(mention_list[i][1])\n",
    "            sample.append(mention_list[j][0])\n",
    "            sample.append(mention_list[j][1])\n",
    "            doc_samples.append(sample)\n",
    "            doc_edges.append((i, j))\n",
    "    test_samples_input.append(doc_samples)\n",
    "    test_edge_pairs.append(doc_edges)"
   ]
  },
  {
   "cell_type": "code",
   "execution_count": 10,
   "metadata": {},
   "outputs": [],
   "source": [
    "X_test = test_samples_input[3]"
   ]
  },
  {
   "cell_type": "code",
   "execution_count": 11,
   "metadata": {
    "scrolled": true
   },
   "outputs": [
    {
     "data": {
      "text/plain": [
       "Net(\n",
       "  (fc1): Linear(in_features=2304, out_features=512, bias=True)\n",
       "  (relu1): ReLU()\n",
       "  (dout): Dropout(p=0.4)\n",
       "  (fc2): Linear(in_features=512, out_features=64, bias=True)\n",
       "  (relu2): ReLU()\n",
       "  (out): Linear(in_features=64, out_features=1, bias=True)\n",
       "  (out_act): Sigmoid()\n",
       ")"
      ]
     },
     "execution_count": 11,
     "metadata": {},
     "output_type": "execute_result"
    }
   ],
   "source": [
    "model = Net()\n",
    "model.load_state_dict(torch.load(\"processed_data/second_run.pth\"))\n",
    "model.to(device)\n",
    "model.eval()"
   ]
  },
  {
   "cell_type": "code",
   "execution_count": 12,
   "metadata": {},
   "outputs": [],
   "source": [
    "X_test = np.array(X_test)\n",
    "y_preds, y_hats = predict(model, X_test, test_embeddings, 32)"
   ]
  },
  {
   "cell_type": "code",
   "execution_count": 13,
   "metadata": {},
   "outputs": [],
   "source": [
    "res = (y_preds==1)"
   ]
  },
  {
   "cell_type": "code",
   "execution_count": 14,
   "metadata": {},
   "outputs": [],
   "source": [
    "pos_samples = torch.nonzero(res.view(-1).data).squeeze().cpu().numpy()\n",
    "y_probs = y_hats.view(-1).data.squeeze().cpu().numpy()"
   ]
  },
  {
   "cell_type": "code",
   "execution_count": 15,
   "metadata": {},
   "outputs": [
    {
     "data": {
      "text/plain": [
       "27"
      ]
     },
     "execution_count": 15,
     "metadata": {},
     "output_type": "execute_result"
    }
   ],
   "source": [
    "len(pos_samples)"
   ]
  },
  {
   "cell_type": "code",
   "execution_count": 16,
   "metadata": {
    "scrolled": true
   },
   "outputs": [
    {
     "name": "stdout",
     "output_type": "stream",
     "text": [
      "(63, 64) (66, 67) 1.0\n",
      "(63, 64) (93, 94) 1.0\n",
      "(63, 64) (102, 104) 1.0\n",
      "(63, 64) (109, 110) 1.0\n",
      "(63, 64) (162, 166) 1.0\n",
      "(63, 64) (178, 179) 1.0\n",
      "(63, 64) (193, 194) 1.0\n",
      "(66, 67) (93, 94) 1.0\n",
      "(66, 67) (96, 100) 1.0\n",
      "(66, 67) (102, 104) 1.0\n",
      "(66, 67) (109, 110) 1.0\n",
      "(66, 67) (115, 119) 1.0\n",
      "(66, 67) (136, 138) 1.0\n",
      "(66, 67) (140, 144) 1.0\n",
      "(66, 67) (162, 166) 1.0\n",
      "(66, 67) (178, 179) 1.0\n",
      "(66, 67) (193, 194) 1.0\n",
      "(93, 94) (102, 104) 1.0\n",
      "(93, 94) (109, 110) 1.0\n",
      "(93, 94) (178, 179) 1.0\n",
      "(93, 94) (193, 194) 1.0\n",
      "(109, 110) (178, 179) 1.0\n",
      "(109, 110) (193, 194) 1.0\n",
      "(115, 119) (140, 144) 1.0\n",
      "(115, 119) (162, 166) 1.0\n",
      "(140, 144) (162, 166) 1.0\n",
      "(178, 179) (193, 194) 1.0\n"
     ]
    }
   ],
   "source": [
    "for ind in pos_samples:\n",
    "    edge = (test_edge_pairs[3][ind])\n",
    "    print(test_mention_list[3][edge[0]], test_mention_list[3][edge[1]], y_probs[ind])"
   ]
  },
  {
   "cell_type": "code",
   "execution_count": 17,
   "metadata": {},
   "outputs": [
    {
     "data": {
      "text/plain": [
       "{27: [(63, 64), (193, 194)],\n",
       " 88: [(66, 67), (109, 110)],\n",
       " 65: [(93, 94), (178, 179)],\n",
       " 115: [(96, 100), (140, 144)],\n",
       " 48: [(102, 104), (136, 138)],\n",
       " 62: [(115, 119), (162, 166)],\n",
       " 10: [(215, 215), (220, 220)]}"
      ]
     },
     "execution_count": 17,
     "metadata": {},
     "output_type": "execute_result"
    }
   ],
   "source": [
    "test_coref_list[3]"
   ]
  },
  {
   "cell_type": "code",
   "execution_count": null,
   "metadata": {},
   "outputs": [],
   "source": []
  }
 ],
 "metadata": {
  "kernelspec": {
   "display_name": "base",
   "language": "python",
   "name": "base"
  },
  "language_info": {
   "codemirror_mode": {
    "name": "ipython",
    "version": 3
   },
   "file_extension": ".py",
   "mimetype": "text/x-python",
   "name": "python",
   "nbconvert_exporter": "python",
   "pygments_lexer": "ipython3",
   "version": "3.7.3"
  }
 },
 "nbformat": 4,
 "nbformat_minor": 2
}
