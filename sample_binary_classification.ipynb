{
 "cells": [
  {
   "cell_type": "code",
   "execution_count": 156,
   "metadata": {},
   "outputs": [],
   "source": [
    "import torch\n",
    "import torch.nn as nn\n",
    "from torch.autograd import Variable\n",
    "import torch.optim as optim\n",
    "import matplotlib.pyplot as plt\n",
    "%matplotlib inline\n",
    "import numpy as np\n",
    "from sklearn import datasets"
   ]
  },
  {
   "cell_type": "code",
   "execution_count": 157,
   "metadata": {},
   "outputs": [],
   "source": [
    "use_cuda = torch.cuda.is_available()"
   ]
  },
  {
   "cell_type": "code",
   "execution_count": 158,
   "metadata": {},
   "outputs": [],
   "source": [
    "device = torch.device('cuda') if use_cuda else \"cpu\""
   ]
  },
  {
   "cell_type": "code",
   "execution_count": 159,
   "metadata": {
    "scrolled": true
   },
   "outputs": [],
   "source": [
    "# separable = False\n",
    "# while not separable:\n",
    "#     samples = datasets.make_classification(n_samples=25000, n_features=2, \n",
    "#                                     n_redundant=0, n_informative=1, n_clusters_per_class=1, flip_y=-1)\n",
    "#     red = samples[0][samples[1] == 0]\n",
    "#     blue = samples[0][samples[1] == 1]\n",
    "#     separable = any([red[:, k].max() < blue[:, k].min() or red[:, k].min() > blue[:, k].max() for k in range(2)])\n",
    "# plt.plot(red[:, 0], red[:, 1], 'r.')\n",
    "# plt.plot(blue[:, 0], blue[:, 1], 'b.')\n",
    "# plt.show()"
   ]
  },
  {
   "cell_type": "code",
   "execution_count": 160,
   "metadata": {},
   "outputs": [],
   "source": [
    "# X_moons_train = torch.tensor(samples[0][0:20000], dtype = torch.float32)\n",
    "# X_moons_valid = torch.tensor(samples[0][20000:], dtype = torch.float32)\n",
    "# Y_moons_train = torch.tensor(samples[1][0:20000], dtype = torch.float32)\n",
    "# Y_moons_valid = torch.tensor(samples[1][20000:], dtype = torch.float32)\n",
    "# Y_moons_train = Y_moons_train.view(Y_moons_train.size()[0], 1)\n",
    "# Y_moons_valid = Y_moons_valid.view(Y_moons_valid.size()[0], 1)"
   ]
  },
  {
   "cell_type": "code",
   "execution_count": 226,
   "metadata": {},
   "outputs": [],
   "source": [
    "class Net(nn.Module):\n",
    "    def __init__(self):\n",
    "        super().__init__()\n",
    "        self.fc1 = nn.Linear(50, 32)\n",
    "        self.relu1 = nn.ReLU()\n",
    "        self.dout = nn.Dropout(0.2)\n",
    "        self.fc2 = nn.Linear(32, 8)\n",
    "        self.relu2 = nn.ReLU()\n",
    "        self.out = nn.Linear(8, 1)\n",
    "        self.out_act = nn.Sigmoid()\n",
    "        \n",
    "    def forward(self, input_):\n",
    "        a1 = self.fc1(input_)\n",
    "        h1 = self.relu1(a1)\n",
    "        dout = self.dout(h1)\n",
    "        a2 = self.fc2(dout)\n",
    "        h2 = self.relu2(a2)\n",
    "        a3 = self.out(h2)\n",
    "        y = self.out_act(a3)\n",
    "        return y"
   ]
  },
  {
   "cell_type": "code",
   "execution_count": 227,
   "metadata": {},
   "outputs": [],
   "source": [
    "def train_epoch(model, opt, batch_size, criterion,X_data, Y_data):\n",
    "    model.train()\n",
    "    losses = []\n",
    "    running_corrects = 0\n",
    "    shuffled_idx = list(np.random.permutation(X_data.size()[0]))\n",
    "    X_data_shuffled = [X_data[i] for i in shuffled_idx]\n",
    "    Y_data_shuffled = [Y_data[i] for i in shuffled_idx]\n",
    "    minibatch_idxs = np.array_split(shuffled_idx, len(shuffled_idx)/batch_size)\n",
    "    for minibatch_ids in minibatch_idxs:\n",
    "        x_batch = X_data[minibatch_ids]\n",
    "        y_batch = Y_data[minibatch_ids]\n",
    "        #print(\"batch size: \",len(x_batch), \"actual size: \", len(minibatch_ids))\n",
    "        x_batch = Variable(x_batch).to(device)\n",
    "        y_batch = Variable(y_batch).to(device)\n",
    "        opt.zero_grad()\n",
    "        y_hat = net(x_batch)\n",
    "        y_preds = (y_hat > 0.5).type(torch.float32)\n",
    "        cumulative_corrects = float(torch.sum(y_preds == y_batch).item())\n",
    "        running_corrects += cumulative_corrects\n",
    "        #print(\"RC, SC, TS\", running_corrects, cumulative_corrects, y_preds.size()[0])\n",
    "        #print(running_corrects)\n",
    "        loss = criterion(y_hat, y_batch)\n",
    "        loss.backward()\n",
    "        opt.step()        \n",
    "        losses.append(loss.item())\n",
    "    accuracy = running_corrects * 1.0 / len(shuffled_idx)\n",
    "    print(\"training accuracy..\", accuracy)\n",
    "    return losses"
   ]
  },
  {
   "cell_type": "code",
   "execution_count": 228,
   "metadata": {},
   "outputs": [],
   "source": [
    "def validation(model, batch_size, X_data, Y_data):\n",
    "    model.eval()\n",
    "    running_corrects = 0\n",
    "    shuffled_idx = list(np.random.permutation(X_data.size()[0]))\n",
    "    X_data_shuffled = [X_data[i] for i in shuffled_idx]\n",
    "    Y_data_shuffled = [Y_data[i] for i in shuffled_idx]\n",
    "    minibatch_idxs = np.array_split(shuffled_idx, len(shuffled_idx)/batch_size)\n",
    "    for minibatch_ids in minibatch_idxs:\n",
    "        x_batch = X_data[minibatch_ids]\n",
    "        y_batch = Y_data[minibatch_ids]\n",
    "        x_batch = Variable(x_batch).to(device)\n",
    "        y_batch = Variable(y_batch).to(device)\n",
    "        with torch.no_grad():\n",
    "            outputs = model(x_batch)\n",
    "        y_preds = (outputs > 0.5).type(torch.float32)\n",
    "        cumulative_corrects = float(torch.sum(y_preds == y_batch).item())\n",
    "        #print(cumulative_corrects, y_preds.size()[0])\n",
    "        running_corrects += cumulative_corrects\n",
    "    accuracy = running_corrects * 1.0 / len(shuffled_idx)\n",
    "    print(\"validation accuracy..\", accuracy)\n",
    "    return"
   ]
  },
  {
   "cell_type": "markdown",
   "metadata": {},
   "source": [
    "### CIrcular data"
   ]
  },
  {
   "cell_type": "code",
   "execution_count": 229,
   "metadata": {},
   "outputs": [],
   "source": [
    "X, Y = datasets.make_circles(n_samples=25000, factor=.6, noise=.1)"
   ]
  },
  {
   "cell_type": "code",
   "execution_count": 230,
   "metadata": {},
   "outputs": [],
   "source": [
    "X_train = torch.tensor(X[0:20000], dtype = torch.float32)\n",
    "X_valid = torch.tensor(X[20000:], dtype = torch.float32)\n",
    "Y_train = torch.tensor(Y[0:20000], dtype = torch.float32)\n",
    "Y_valid = torch.tensor(Y[20000:], dtype = torch.float32)\n",
    "\n",
    "Y_train = Y_train.view(Y_train.size()[0], 1)\n",
    "Y_valid = Y_valid.view(Y_valid.size()[0], 1)\n",
    "one_indices = np.where(Y==1)\n",
    "zero_indices = np.where(Y==0)"
   ]
  },
  {
   "cell_type": "code",
   "execution_count": 231,
   "metadata": {},
   "outputs": [
    {
     "data": {
      "text/plain": [
       "<matplotlib.collections.PathCollection at 0x7f3f4423a518>"
      ]
     },
     "execution_count": 231,
     "metadata": {},
     "output_type": "execute_result"
    },
    {
     "data": {
      "image/png": "[encoded data removed]",
      "text/plain": [
       "<Figure size 432x288 with 1 Axes>"
      ]
     },
     "metadata": {
      "needs_background": "light"
     },
     "output_type": "display_data"
    }
   ],
   "source": [
    "plt.scatter(X[one_indices, 0], X[one_indices, 1], color='b')\n",
    "plt.scatter(X[zero_indices, 0], X[zero_indices, 1], color='r')"
   ]
  },
  {
   "cell_type": "markdown",
   "metadata": {},
   "source": [
    "### random linear data"
   ]
  },
  {
   "cell_type": "code",
   "execution_count": 237,
   "metadata": {},
   "outputs": [],
   "source": [
    "# X1 = torch.randn(6000, 50)\n",
    "# X2 = torch.randn(6000, 50) + 1.5\n",
    "# X = torch.cat([X1, X2], dim=0)\n",
    "# Y1 = torch.zeros(6000, 1)\n",
    "# Y2 = torch.ones(6000, 1)\n",
    "# Y = torch.cat([Y1, Y2], dim=0)"
   ]
  },
  {
   "cell_type": "code",
   "execution_count": 238,
   "metadata": {
    "scrolled": true
   },
   "outputs": [
    {
     "data": {
      "text/plain": [
       "<matplotlib.collections.PathCollection at 0x7f3f441e2390>"
      ]
     },
     "execution_count": 238,
     "metadata": {},
     "output_type": "execute_result"
    },
    {
     "data": {
      "image/png": "[encoded data removed]",
      "text/plain": [
       "<Figure size 432x288 with 1 Axes>"
      ]
     },
     "metadata": {
      "needs_background": "light"
     },
     "output_type": "display_data"
    }
   ],
   "source": [
    "/"
   ]
  },
  {
   "cell_type": "code",
   "execution_count": 239,
   "metadata": {},
   "outputs": [
    {
     "name": "stderr",
     "output_type": "stream",
     "text": [
      "/home/forcerequestspring19_gmail_com/anaconda3/lib/python3.7/site-packages/ipykernel_launcher.py:1: UserWarning: To copy construct from a tensor, it is recommended to use sourceTensor.clone().detach() or sourceTensor.clone().detach().requires_grad_(True), rather than torch.tensor(sourceTensor).\n",
      "  \"\"\"Entry point for launching an IPython kernel.\n",
      "/home/forcerequestspring19_gmail_com/anaconda3/lib/python3.7/site-packages/ipykernel_launcher.py:2: UserWarning: To copy construct from a tensor, it is recommended to use sourceTensor.clone().detach() or sourceTensor.clone().detach().requires_grad_(True), rather than torch.tensor(sourceTensor).\n",
      "  \n",
      "/home/forcerequestspring19_gmail_com/anaconda3/lib/python3.7/site-packages/ipykernel_launcher.py:3: UserWarning: To copy construct from a tensor, it is recommended to use sourceTensor.clone().detach() or sourceTensor.clone().detach().requires_grad_(True), rather than torch.tensor(sourceTensor).\n",
      "  This is separate from the ipykernel package so we can avoid doing imports until\n",
      "/home/forcerequestspring19_gmail_com/anaconda3/lib/python3.7/site-packages/ipykernel_launcher.py:4: UserWarning: To copy construct from a tensor, it is recommended to use sourceTensor.clone().detach() or sourceTensor.clone().detach().requires_grad_(True), rather than torch.tensor(sourceTensor).\n",
      "  after removing the cwd from sys.path.\n"
     ]
    }
   ],
   "source": [
    "X_train = torch.tensor(X[0:5000], dtype = torch.float32)\n",
    "X_valid = torch.tensor(X[5000:], dtype = torch.float32)\n",
    "Y_train = torch.tensor(Y[0:5000], dtype = torch.float32)\n",
    "Y_valid = torch.tensor(Y[5000:], dtype = torch.float32)"
   ]
  },
  {
   "cell_type": "code",
   "execution_count": 240,
   "metadata": {},
   "outputs": [],
   "source": [
    "net = Net().to(device)\n",
    "opt = optim.Adam(net.parameters(), lr=0.001, betas=(0.9, 0.999))\n",
    "batch_size = 32\n",
    "criterion = nn.BCELoss()"
   ]
  },
  {
   "cell_type": "code",
   "execution_count": 241,
   "metadata": {},
   "outputs": [
    {
     "name": "stdout",
     "output_type": "stream",
     "text": [
      "training accuracy.. 1.0\n",
      "validation accuracy.. 0.14285714285714285\n",
      "training accuracy.. 1.0\n",
      "validation accuracy.. 0.14285714285714285\n",
      "training accuracy.. 1.0\n",
      "validation accuracy.. 0.14285714285714285\n",
      "training accuracy.. 1.0\n",
      "validation accuracy.. 0.14285714285714285\n",
      "training accuracy.. 1.0\n",
      "validation accuracy.. 0.14285714285714285\n",
      "training accuracy.. 1.0\n",
      "validation accuracy.. 0.14285714285714285\n",
      "training accuracy.. 1.0\n",
      "validation accuracy.. 0.14285714285714285\n",
      "training accuracy.. 1.0\n",
      "validation accuracy.. 0.14285714285714285\n",
      "training accuracy.. 1.0\n",
      "validation accuracy.. 0.14285714285714285\n",
      "training accuracy.. 1.0\n",
      "validation accuracy.. 0.14285714285714285\n",
      "training accuracy.. 1.0\n",
      "validation accuracy.. 0.14285714285714285\n",
      "training accuracy.. 1.0\n",
      "validation accuracy.. 0.14285714285714285\n",
      "training accuracy.. 1.0\n",
      "validation accuracy.. 0.14285714285714285\n",
      "training accuracy.. 1.0\n",
      "validation accuracy.. 0.14285714285714285\n",
      "training accuracy.. 1.0\n",
      "validation accuracy.. 0.14285714285714285\n",
      "training accuracy.. 1.0\n",
      "validation accuracy.. 0.14285714285714285\n",
      "training accuracy.. 1.0\n",
      "validation accuracy.. 0.14285714285714285\n",
      "training accuracy.. 1.0\n",
      "validation accuracy.. 0.14285714285714285\n",
      "training accuracy.. 1.0\n",
      "validation accuracy.. 0.14285714285714285\n",
      "training accuracy.. 1.0\n",
      "validation accuracy.. 0.14285714285714285\n",
      "training accuracy.. 1.0\n",
      "validation accuracy.. 0.14285714285714285\n",
      "training accuracy.. 1.0\n",
      "validation accuracy.. 0.14285714285714285\n",
      "training accuracy.. 1.0\n",
      "validation accuracy.. 0.14285714285714285\n",
      "training accuracy.. 1.0\n",
      "validation accuracy.. 0.14285714285714285\n",
      "training accuracy.. 1.0\n",
      "validation accuracy.. 0.14285714285714285\n",
      "training accuracy.. 1.0\n",
      "validation accuracy.. 0.14285714285714285\n",
      "training accuracy.. 1.0\n",
      "validation accuracy.. 0.14285714285714285\n",
      "training accuracy.. 1.0\n",
      "validation accuracy.. 0.14285714285714285\n",
      "training accuracy.. 1.0\n",
      "validation accuracy.. 0.14285714285714285\n",
      "training accuracy.. 1.0\n",
      "validation accuracy.. 0.14285714285714285\n"
     ]
    },
    {
     "data": {
      "text/plain": [
       "[<matplotlib.lines.Line2D at 0x7f3f44218400>]"
      ]
     },
     "execution_count": 241,
     "metadata": {},
     "output_type": "execute_result"
    },
    {
     "data": {
      "image/png": "[encoded data removed]",
      "text/plain": [
       "<Figure size 432x288 with 1 Axes>"
      ]
     },
     "metadata": {
      "needs_background": "light"
     },
     "output_type": "display_data"
    }
   ],
   "source": [
    "e_losses = []\n",
    "num_epochs = 30\n",
    "for e in range(num_epochs):\n",
    "    e_losses += train_epoch(net, opt, batch_size, criterion, X_train, Y_train)\n",
    "    validation(net,batch_size, X_valid, Y_valid)\n",
    "plt.plot(e_losses)"
   ]
  },
  {
   "cell_type": "code",
   "execution_count": null,
   "metadata": {},
   "outputs": [],
   "source": []
  }
 ],
 "metadata": {
  "kernelspec": {
   "display_name": "base",
   "language": "python",
   "name": "base"
  },
  "language_info": {
   "codemirror_mode": {
    "name": "ipython",
    "version": 3
   },
   "file_extension": ".py",
   "mimetype": "text/x-python",
   "name": "python",
   "nbconvert_exporter": "python",
   "pygments_lexer": "ipython3",
   "version": "3.7.3"
  }
 },
 "nbformat": 4,
 "nbformat_minor": 2
}
