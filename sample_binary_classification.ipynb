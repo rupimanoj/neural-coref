{
 "cells": [
  {
   "cell_type": "code",
   "execution_count": 36,
   "metadata": {},
   "outputs": [],
   "source": [
    "import torch\n",
    "import torch.nn as nn\n",
    "from torch.autograd import Variable\n",
    "import torch.optim as optim\n",
    "import matplotlib.pyplot as plt\n",
    "%matplotlib inline\n",
    "import numpy as np\n",
    "from sklearn import datasets"
   ]
  },
  {
   "cell_type": "code",
   "execution_count": 37,
   "metadata": {},
   "outputs": [],
   "source": [
    "use_cuda = torch.cuda.is_available()"
   ]
  },
  {
   "cell_type": "code",
   "execution_count": 38,
   "metadata": {},
   "outputs": [],
   "source": [
    "device = torch.device('cuda') if use_cuda else \"cpu\""
   ]
  },
  {
   "cell_type": "code",
   "execution_count": 39,
   "metadata": {},
   "outputs": [],
   "source": [
    "class Net(nn.Module):\n",
    "    def __init__(self):\n",
    "        super().__init__()\n",
    "        self.fc1 = nn.Linear(2, 32)\n",
    "        self.relu1 = nn.ReLU()\n",
    "        self.dout = nn.Dropout(0.2)\n",
    "        self.fc2 = nn.Linear(32, 8)\n",
    "        self.relu2 = nn.ReLU()\n",
    "        self.out = nn.Linear(8, 1)\n",
    "        self.out_act = nn.Sigmoid()\n",
    "        \n",
    "    def forward(self, input_):\n",
    "        a1 = self.fc1(input_)\n",
    "        h1 = self.relu1(a1)\n",
    "        dout = self.dout(h1)\n",
    "        a2 = self.fc2(dout)\n",
    "        h2 = self.relu2(a2)\n",
    "        a3 = self.out(h2)\n",
    "        y = self.out_act(a3)\n",
    "        return y"
   ]
  },
  {
   "cell_type": "code",
   "execution_count": 40,
   "metadata": {},
   "outputs": [],
   "source": [
    "def train_epoch(model, opt, criterion, batch_size, X_data, Y_data, mode=\"train\"):\n",
    "    \n",
    "    if(mode == \"train\"):\n",
    "        model.train()\n",
    "    else:\n",
    "        model.eval()\n",
    "    \n",
    "    losses = []\n",
    "    running_corrects = 0\n",
    "    shuffled_idx = list(np.random.permutation(X_data.size()[0]))\n",
    "    X_data_shuffled = [X_data[i] for i in shuffled_idx]\n",
    "    Y_data_shuffled = [Y_data[i] for i in shuffled_idx]\n",
    "    minibatch_idxs = np.array_split(shuffled_idx, len(shuffled_idx)/batch_size)\n",
    "    for minibatch_ids in minibatch_idxs:\n",
    "        x_batch = X_data[minibatch_ids]\n",
    "        y_batch = Y_data[minibatch_ids]\n",
    "        x_batch = Variable(x_batch).to(device)\n",
    "        y_batch = Variable(y_batch).to(device)\n",
    "        opt.zero_grad()\n",
    "        \n",
    "        if(mode == \"train\"):\n",
    "            y_hat = model(x_batch)\n",
    "        else:\n",
    "            with torch.no_grad():\n",
    "                y_hat = model(x_batch)\n",
    "        \n",
    "        y_preds = (y_hat > 0.5).type(torch.float32)\n",
    "        loss = criterion(y_hat, y_batch)\n",
    "        \n",
    "        corrects = float(torch.sum(y_preds == y_batch).item())\n",
    "        running_corrects += corrects\n",
    "        \n",
    "        if(mode == \"train\"):\n",
    "            loss.backward()\n",
    "            opt.step()\n",
    "            \n",
    "        losses.append(loss.item())\n",
    "        \n",
    "    accuracy = running_corrects * 1.0 / len(shuffled_idx)\n",
    "    avg_loss = sum(losses) * 1.0 / len(losses)\n",
    "    return avg_loss, accuracy"
   ]
  },
  {
   "cell_type": "markdown",
   "metadata": {},
   "source": [
    "### CIrcular data"
   ]
  },
  {
   "cell_type": "code",
   "execution_count": 41,
   "metadata": {},
   "outputs": [],
   "source": [
    "X, Y = datasets.make_circles(n_samples=25000, factor=.6, noise=.1)"
   ]
  },
  {
   "cell_type": "code",
   "execution_count": 42,
   "metadata": {},
   "outputs": [],
   "source": [
    "X_train = torch.tensor(X[0:20000], dtype = torch.float32)\n",
    "X_valid = torch.tensor(X[20000:], dtype = torch.float32)\n",
    "Y_train = torch.tensor(Y[0:20000], dtype = torch.float32)\n",
    "Y_valid = torch.tensor(Y[20000:], dtype = torch.float32)\n",
    "\n",
    "Y_train = Y_train.view(Y_train.size()[0], 1)\n",
    "Y_valid = Y_valid.view(Y_valid.size()[0], 1)\n",
    "one_indices = np.where(Y==1)\n",
    "zero_indices = np.where(Y==0)"
   ]
  },
  {
   "cell_type": "code",
   "execution_count": 43,
   "metadata": {},
   "outputs": [
    {
     "data": {
      "text/plain": [
       "<matplotlib.collections.PathCollection at 0x7fda2d917a20>"
      ]
     },
     "execution_count": 43,
     "metadata": {},
     "output_type": "execute_result"
    },
    {
     "data": {
      "image/png": "[encoded data removed]",
      "text/plain": [
       "<Figure size 432x288 with 1 Axes>"
      ]
     },
     "metadata": {
      "needs_background": "light"
     },
     "output_type": "display_data"
    }
   ],
   "source": [
    "plt.scatter(X[one_indices, 0], X[one_indices, 1], color='b')\n",
    "plt.scatter(X[zero_indices, 0], X[zero_indices, 1], color='r')"
   ]
  },
  {
   "cell_type": "code",
   "execution_count": 54,
   "metadata": {},
   "outputs": [],
   "source": [
    "net = Net().to(device)\n",
    "opt = optim.Adam(net.parameters(), lr=0.0001, betas=(0.9, 0.999))\n",
    "batch_size = 32\n",
    "num_epochs = 30\n",
    "criterion = nn.BCELoss()"
   ]
  },
  {
   "cell_type": "code",
   "execution_count": 55,
   "metadata": {},
   "outputs": [
    {
     "name": "stdout",
     "output_type": "stream",
     "text": [
      "================ EPOCH 0 / 30\n",
      "Train loss and accuracy:  0.6905561191558838 0.52055\n",
      "Val loss and accuracy:  0.6777279690290109 0.685\n",
      "================ EPOCH 1 / 30\n",
      "Train loss and accuracy:  0.6642487961769103 0.6956\n",
      "Val loss and accuracy:  0.638481698739223 0.9464\n",
      "================ EPOCH 2 / 30\n",
      "Train loss and accuracy:  0.6221978691101074 0.78625\n",
      "Val loss and accuracy:  0.587853349172152 0.9018\n",
      "================ EPOCH 3 / 30\n",
      "Train loss and accuracy:  0.5727961171150208 0.81485\n",
      "Val loss and accuracy:  0.5301969823164817 0.9396\n",
      "================ EPOCH 4 / 30\n",
      "Train loss and accuracy:  0.5244629241943359 0.8357\n",
      "Val loss and accuracy:  0.47250849791826344 0.9516\n",
      "================ EPOCH 5 / 30\n",
      "Train loss and accuracy:  0.47659034276008605 0.8528\n",
      "Val loss and accuracy:  0.4166829641430806 0.9636\n",
      "================ EPOCH 6 / 30\n",
      "Train loss and accuracy:  0.43861667275428773 0.8582\n",
      "Val loss and accuracy:  0.36863918869923323 0.9666\n",
      "================ EPOCH 7 / 30\n",
      "Train loss and accuracy:  0.4024628249168396 0.8653\n",
      "Val loss and accuracy:  0.32758241643508273 0.9688\n",
      "================ EPOCH 8 / 30\n",
      "Train loss and accuracy:  0.374365122127533 0.87185\n",
      "Val loss and accuracy:  0.29399213471855873 0.9706\n",
      "================ EPOCH 9 / 30\n",
      "Train loss and accuracy:  0.3526379660606384 0.87515\n",
      "Val loss and accuracy:  0.2660757159957519 0.9708\n",
      "================ EPOCH 10 / 30\n",
      "Train loss and accuracy:  0.33373198726177217 0.8812\n",
      "Val loss and accuracy:  0.24405751339136025 0.971\n",
      "================ EPOCH 11 / 30\n",
      "Train loss and accuracy:  0.31846506764888766 0.88575\n",
      "Val loss and accuracy:  0.22465146141938674 0.971\n",
      "================ EPOCH 12 / 30\n",
      "Train loss and accuracy:  0.30601121706962586 0.8885\n",
      "Val loss and accuracy:  0.20991808051864305 0.9706\n",
      "================ EPOCH 13 / 30\n",
      "Train loss and accuracy:  0.2934475289821625 0.892\n",
      "Val loss and accuracy:  0.19726386265112802 0.9708\n",
      "================ EPOCH 14 / 30\n",
      "Train loss and accuracy:  0.2777510293483734 0.8964\n",
      "Val loss and accuracy:  0.18449240860839686 0.9732\n",
      "================ EPOCH 15 / 30\n",
      "Train loss and accuracy:  0.2728538472533226 0.89865\n",
      "Val loss and accuracy:  0.17577570777099866 0.9726\n",
      "================ EPOCH 16 / 30\n",
      "Train loss and accuracy:  0.2654565880775452 0.8995\n",
      "Val loss and accuracy:  0.16931533698852247 0.9706\n",
      "================ EPOCH 17 / 30\n",
      "Train loss and accuracy:  0.2566299960374832 0.9011\n",
      "Val loss and accuracy:  0.16251728444909438 0.9702\n",
      "================ EPOCH 18 / 30\n",
      "Train loss and accuracy:  0.2456213017821312 0.90865\n",
      "Val loss and accuracy:  0.15421070831899458 0.971\n",
      "================ EPOCH 19 / 30\n",
      "Train loss and accuracy:  0.24554502631425856 0.9058\n",
      "Val loss and accuracy:  0.15073162560852674 0.9706\n",
      "================ EPOCH 20 / 30\n",
      "Train loss and accuracy:  0.23274475338459014 0.91325\n",
      "Val loss and accuracy:  0.14558721567766789 0.9712\n",
      "================ EPOCH 21 / 30\n",
      "Train loss and accuracy:  0.22951623383164405 0.9145\n",
      "Val loss and accuracy:  0.13959563953372148 0.9726\n",
      "================ EPOCH 22 / 30\n",
      "Train loss and accuracy:  0.22343922839164734 0.9141\n",
      "Val loss and accuracy:  0.1350018203449555 0.9728\n",
      "================ EPOCH 23 / 30\n",
      "Train loss and accuracy:  0.2164027088701725 0.9181\n",
      "Val loss and accuracy:  0.13482933825789353 0.9706\n",
      "================ EPOCH 24 / 30\n",
      "Train loss and accuracy:  0.21242863757610322 0.91985\n",
      "Val loss and accuracy:  0.1313584944090018 0.9708\n",
      "================ EPOCH 25 / 30\n",
      "Train loss and accuracy:  0.2025601149559021 0.92625\n",
      "Val loss and accuracy:  0.1278348746828926 0.971\n",
      "================ EPOCH 26 / 30\n",
      "Train loss and accuracy:  0.20041852612495423 0.9246\n",
      "Val loss and accuracy:  0.12238802192493892 0.973\n",
      "================ EPOCH 27 / 30\n",
      "Train loss and accuracy:  0.20137376433610915 0.9221\n",
      "Val loss and accuracy:  0.122678508862662 0.971\n",
      "================ EPOCH 28 / 30\n",
      "Train loss and accuracy:  0.1965668240725994 0.9252\n",
      "Val loss and accuracy:  0.1190152163259112 0.9716\n",
      "================ EPOCH 29 / 30\n",
      "Train loss and accuracy:  0.19495015746951103 0.9273\n",
      "Val loss and accuracy:  0.11841560821407117 0.9716\n"
     ]
    }
   ],
   "source": [
    "train_loss_seq = []\n",
    "val_loss_seq = []\n",
    "train_acc_seq = []\n",
    "val_acc_seq = []\n",
    "for e in range(num_epochs):\n",
    "    print(\"================ EPOCH\", e, \"/\", num_epochs)\n",
    "    train_loss, train_acc = train_epoch(net, opt, criterion, batch_size, X_train, Y_train, \"train\")\n",
    "    val_loss, val_acc = train_epoch(net, opt, criterion, batch_size, X_valid, Y_valid, \"validation\")\n",
    "    train_loss_seq.append(train_loss)\n",
    "    train_acc_seq.append(train_acc)\n",
    "    val_loss_seq.append(val_loss)\n",
    "    val_acc_seq.append(val_acc)\n",
    "    print(\"Train loss and accuracy: \", train_loss, train_acc)\n",
    "    print(\"Val loss and accuracy: \", val_loss, val_acc)"
   ]
  },
  {
   "cell_type": "code",
   "execution_count": 60,
   "metadata": {},
   "outputs": [
    {
     "data": {
      "text/plain": [
       "[<matplotlib.lines.Line2D at 0x7fda2c4dff98>]"
      ]
     },
     "execution_count": 60,
     "metadata": {},
     "output_type": "execute_result"
    },
    {
     "data": {
      "image/png": "[encoded data removed]",
      "text/plain": [
       "<Figure size 432x288 with 1 Axes>"
      ]
     },
     "metadata": {
      "needs_background": "light"
     },
     "output_type": "display_data"
    }
   ],
   "source": [
    "plt.plot(val_acc_seq)"
   ]
  },
  {
   "cell_type": "code",
   "execution_count": null,
   "metadata": {},
   "outputs": [],
   "source": []
  }
 ],
 "metadata": {
  "kernelspec": {
   "display_name": "base",
   "language": "python",
   "name": "base"
  },
  "language_info": {
   "codemirror_mode": {
    "name": "ipython",
    "version": 3
   },
   "file_extension": ".py",
   "mimetype": "text/x-python",
   "name": "python",
   "nbconvert_exporter": "python",
   "pygments_lexer": "ipython3",
   "version": "3.7.3"
  }
 },
 "nbformat": 4,
 "nbformat_minor": 2
}
